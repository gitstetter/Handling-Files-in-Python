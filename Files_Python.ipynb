{
 "cells": [
  {
   "cell_type": "markdown",
   "metadata": {},
   "source": [
    "# Handling Files in Python"
   ]
  },
  {
   "cell_type": "markdown",
   "metadata": {},
   "source": [
    "### Backslashes and File Paths\n",
    "\n",
    "Different Separators in File paths depending on OS:\n",
    "- Windows: \\\n",
    "- macOS & Linux: /\n",
    "\n",
    "To overcome this discrepancy use pathlib.Path()\n"
   ]
  },
  {
   "cell_type": "code",
   "execution_count": 54,
   "metadata": {},
   "outputs": [
    {
     "name": "stdout",
     "output_type": "stream",
     "text": [
      "this/is/a/path\n",
      "<class 'pathlib.PosixPath'>\n"
     ]
    }
   ],
   "source": [
    "from pathlib import Path\n",
    "\n",
    "path = Path('this', 'is', 'a', 'path')\n",
    "print(path)\n",
    "print(type(path))"
   ]
  },
  {
   "cell_type": "code",
   "execution_count": 55,
   "metadata": {},
   "outputs": [
    {
     "name": "stdout",
     "output_type": "stream",
     "text": [
      "Users/Gitstetter/example.txt\n",
      "Users/Gitstetter/important.csv\n"
     ]
    }
   ],
   "source": [
    "# Join Paths using \"/\"\n",
    "myFiles = ['example.txt', 'important.csv']\n",
    "\n",
    "for filename in myFiles:\n",
    "    print(Path('Users') / 'Gitstetter'/filename)"
   ]
  },
  {
   "cell_type": "markdown",
   "metadata": {},
   "source": [
    "### Set & Retrieve Current Working Directory"
   ]
  },
  {
   "cell_type": "code",
   "execution_count": 103,
   "metadata": {},
   "outputs": [
    {
     "name": "stdout",
     "output_type": "stream",
     "text": [
      "/Users/andreasfussstetter/Jupyter Notebooks/Files_in_Python\n"
     ]
    }
   ],
   "source": [
    "import os\n",
    "cwd = Path.cwd()\n",
    "print(cwd)"
   ]
  },
  {
   "cell_type": "markdown",
   "metadata": {},
   "source": [
    "### Absolute VS. Realtive Paths\n",
    "\n",
    "There are two types of paths:\n",
    "- Absolute paths: always beginn with the root folder\n",
    "- Relative paths: relative to a program's cwd"
   ]
  },
  {
   "cell_type": "code",
   "execution_count": 57,
   "metadata": {},
   "outputs": [
    {
     "name": "stdout",
     "output_type": "stream",
     "text": [
      "/Users/andreasfussstetter/Jupyter Notebooks/Files_in_Python\n",
      "True\n",
      "not/absolute\n",
      "False\n"
     ]
    }
   ],
   "source": [
    "# Check if a path is absolute\n",
    "print(Path.cwd())\n",
    "print(Path.cwd().is_absolute())\n",
    "\n",
    "print(Path('not', 'absolute'))\n",
    "print(Path('not', 'absolute').is_absolute())"
   ]
  },
  {
   "cell_type": "code",
   "execution_count": 58,
   "metadata": {},
   "outputs": [
    {
     "name": "stdout",
     "output_type": "stream",
     "text": [
      "/Users/andreasfussstetter/Jupyter Notebooks/Files_in_Python/not/absolute\n",
      "/Users/andreasfussstetter/Jupyter Notebooks/Files_in_Python/Test\n"
     ]
    }
   ],
   "source": [
    "# Make a relative path absolute\n",
    "print(Path.cwd() / Path('not', 'absolute'))\n",
    "# Or\n",
    "print(os.path.abspath('./Test'))"
   ]
  },
  {
   "cell_type": "markdown",
   "metadata": {},
   "source": [
    "### Extracting Parts of a File Path"
   ]
  },
  {
   "cell_type": "code",
   "execution_count": 59,
   "metadata": {},
   "outputs": [],
   "source": [
    "p = Path('/Users/Gitstetter/file.txt')"
   ]
  },
  {
   "cell_type": "code",
   "execution_count": 60,
   "metadata": {},
   "outputs": [
    {
     "data": {
      "text/plain": [
       "'/'"
      ]
     },
     "execution_count": 60,
     "metadata": {},
     "output_type": "execute_result"
    }
   ],
   "source": [
    "# Get root folder of filesystem\n",
    "p.anchor"
   ]
  },
  {
   "cell_type": "code",
   "execution_count": 61,
   "metadata": {},
   "outputs": [
    {
     "data": {
      "text/plain": [
       "PosixPath('/Users/Gitstetter')"
      ]
     },
     "execution_count": 61,
     "metadata": {},
     "output_type": "execute_result"
    }
   ],
   "source": [
    "# Get parent Folder that contains the file\n",
    "p.parent"
   ]
  },
  {
   "cell_type": "code",
   "execution_count": 62,
   "metadata": {},
   "outputs": [
    {
     "data": {
      "text/plain": [
       "'file.txt'"
      ]
     },
     "execution_count": 62,
     "metadata": {},
     "output_type": "execute_result"
    }
   ],
   "source": [
    "# Get filename\n",
    "p.name"
   ]
  },
  {
   "cell_type": "code",
   "execution_count": 63,
   "metadata": {},
   "outputs": [
    {
     "data": {
      "text/plain": [
       "'file'"
      ]
     },
     "execution_count": 63,
     "metadata": {},
     "output_type": "execute_result"
    }
   ],
   "source": [
    "# Get base name of file\n",
    "p.stem"
   ]
  },
  {
   "cell_type": "code",
   "execution_count": 64,
   "metadata": {},
   "outputs": [
    {
     "data": {
      "text/plain": [
       "'.txt'"
      ]
     },
     "execution_count": 64,
     "metadata": {},
     "output_type": "execute_result"
    }
   ],
   "source": [
    "# Get suffix of file\n",
    "p.suffix"
   ]
  },
  {
   "cell_type": "markdown",
   "metadata": {},
   "source": [
    "### List Folder Contents and get File Sizes"
   ]
  },
  {
   "cell_type": "code",
   "execution_count": 65,
   "metadata": {},
   "outputs": [
    {
     "data": {
      "text/plain": [
       "['Files_Python.ipynb', 'mydata.db', '.ipynb_checkpoints']"
      ]
     },
     "execution_count": 65,
     "metadata": {},
     "output_type": "execute_result"
    }
   ],
   "source": [
    "os.listdir(cwd)"
   ]
  },
  {
   "cell_type": "code",
   "execution_count": 66,
   "metadata": {},
   "outputs": [
    {
     "data": {
      "text/plain": [
       "8780"
      ]
     },
     "execution_count": 66,
     "metadata": {},
     "output_type": "execute_result"
    }
   ],
   "source": [
    "os.path.getsize(cwd / 'Files_Python.ipynb')"
   ]
  },
  {
   "cell_type": "markdown",
   "metadata": {},
   "source": [
    "### Glob Patterns"
   ]
  },
  {
   "cell_type": "markdown",
   "metadata": {},
   "source": [
    "Glob Patterns are like a simplified form of regexes used in command line tools.\n",
    "\n",
    "The glob() method returns a generator object - pass them to list() to view them."
   ]
  },
  {
   "cell_type": "code",
   "execution_count": 67,
   "metadata": {},
   "outputs": [
    {
     "data": {
      "text/plain": [
       "<generator object Path.glob at 0x7f9e82b47ed0>"
      ]
     },
     "execution_count": 67,
     "metadata": {},
     "output_type": "execute_result"
    }
   ],
   "source": [
    "cwd.glob('*')"
   ]
  },
  {
   "cell_type": "code",
   "execution_count": 68,
   "metadata": {},
   "outputs": [
    {
     "data": {
      "text/plain": [
       "[PosixPath('/Users/andreasfussstetter/Jupyter Notebooks/Files_in_Python/Files_Python.ipynb'),\n",
       " PosixPath('/Users/andreasfussstetter/Jupyter Notebooks/Files_in_Python/mydata.db'),\n",
       " PosixPath('/Users/andreasfussstetter/Jupyter Notebooks/Files_in_Python/.ipynb_checkpoints')]"
      ]
     },
     "execution_count": 68,
     "metadata": {},
     "output_type": "execute_result"
    }
   ],
   "source": [
    "# List all files using *\n",
    "list(cwd.glob('*'))"
   ]
  },
  {
   "cell_type": "code",
   "execution_count": 69,
   "metadata": {},
   "outputs": [
    {
     "data": {
      "text/plain": [
       "[PosixPath('/Users/andreasfussstetter/Jupyter Notebooks/Files_in_Python/Files_Python.ipynb')]"
      ]
     },
     "execution_count": 69,
     "metadata": {},
     "output_type": "execute_result"
    }
   ],
   "source": [
    "# Only list Jupyter Notebooks\n",
    "list(cwd.glob('*.ipynb'))"
   ]
  },
  {
   "cell_type": "code",
   "execution_count": 70,
   "metadata": {},
   "outputs": [
    {
     "data": {
      "text/plain": [
       "[PosixPath('/Users/andreasfussstetter/Jupyter Notebooks/Files_in_Python/Files_Python.ipynb')]"
      ]
     },
     "execution_count": 70,
     "metadata": {},
     "output_type": "execute_result"
    }
   ],
   "source": [
    "# ? stands for any single character\n",
    "list(cwd.glob('Files_Pytho?.ipynb'))"
   ]
  },
  {
   "cell_type": "markdown",
   "metadata": {},
   "source": [
    "### Saving Variables with shelve Module"
   ]
  },
  {
   "cell_type": "markdown",
   "metadata": {},
   "source": [
    "Save Variables to File 'mydata.db'"
   ]
  },
  {
   "cell_type": "code",
   "execution_count": 76,
   "metadata": {},
   "outputs": [],
   "source": [
    "import shelve\n",
    "shelfFile = shelve.open('mydata')\n",
    "variables = ['var1', 'var2', 'var3']\n",
    "name = ['Gitstetter']\n",
    "# Treat shelfFile just like any dictionary\n",
    "shelfFile['variables']  = variables\n",
    "shelfFile['name'] = name\n",
    "shelfFile.close()\n",
    "del variables, name"
   ]
  },
  {
   "cell_type": "markdown",
   "metadata": {},
   "source": [
    "Read Variable from File 'mydata.db'"
   ]
  },
  {
   "cell_type": "code",
   "execution_count": 77,
   "metadata": {},
   "outputs": [
    {
     "name": "stdout",
     "output_type": "stream",
     "text": [
      "['variables', 'name']\n",
      "[['var1', 'var2', 'var3'], ['Gitstetter']]\n",
      "['var1', 'var2', 'var3']\n"
     ]
    }
   ],
   "source": [
    "shelfFile = shelve.open('mydata')\n",
    "#List keys\n",
    "print(list(shelfFile.keys()))\n",
    "#List Values\n",
    "print(list(shelfFile.values()))\n",
    "variablesNew = shelfFile['variables']\n",
    "print(variablesNew)"
   ]
  },
  {
   "cell_type": "markdown",
   "metadata": {},
   "source": [
    "### The shutil Module"
   ]
  },
  {
   "cell_type": "code",
   "execution_count": 108,
   "metadata": {},
   "outputs": [],
   "source": [
    "import shutil # shell utilities\n",
    "\n",
    "# Make new txt file\n",
    "with open('example.txt', 'w') as File:\n",
    "    File.write('Aloha!')\n",
    "\n",
    "# Copy file to new location\n",
    "shutil.copy('example.txt', cwd/'Folder')\n",
    "\n",
    "# Copy & rename the file\n",
    "shutil.copy('example.txt', cwd/'Folder'/'NEW.txt')\n",
    "\n",
    "# Copy entire folder & all contents with shutil.copytree()\n",
    "shutil.copytree(cwd , cwd/'backup')\n",
    "\n",
    "# Move & Rename File\n",
    "shutil.move(cwd/'example.txt', cwd/'backup'/'NewFile.txt')\n",
    "\n",
    "# Delete .txt Files in a folder\n",
    "for filename in (cwd/'Folder').glob('*.txt'):\n",
    "    os.unlink(filename)\n",
    "\n",
    "# Delete Folder & Contents\n",
    "shutil.rmtree(cwd/'backup')"
   ]
  },
  {
   "cell_type": "markdown",
   "metadata": {},
   "source": [
    "### Safe Delete with send2trash"
   ]
  },
  {
   "cell_type": "code",
   "execution_count": 110,
   "metadata": {},
   "outputs": [],
   "source": [
    "import send2trash\n",
    "\n",
    "# Make new txt file\n",
    "with open('example.txt', 'w') as File:\n",
    "    File.write('Aloha!')\n",
    "    \n",
    "send2trash.send2trash('example.txt')"
   ]
  },
  {
   "cell_type": "markdown",
   "metadata": {},
   "source": [
    "### zipfile module"
   ]
  },
  {
   "cell_type": "markdown",
   "metadata": {},
   "source": [
    "Create new Zipfile & and write a file to it:"
   ]
  },
  {
   "cell_type": "code",
   "execution_count": 122,
   "metadata": {},
   "outputs": [],
   "source": [
    "import zipfile\n",
    "\n",
    "newZip = zipfile.ZipFile('newzip.zip', 'w')\n",
    "newZip.write('mydata.db', compress_type=zipfile.ZIP_DEFLATED)\n",
    "newZip.close()"
   ]
  },
  {
   "cell_type": "markdown",
   "metadata": {},
   "source": [
    "Read in Zipfile:"
   ]
  },
  {
   "cell_type": "code",
   "execution_count": 133,
   "metadata": {},
   "outputs": [
    {
     "name": "stdout",
     "output_type": "stream",
     "text": [
      "['mydata.db']\n",
      "File Size: 16384\n",
      "Compressed Size: 180\n",
      "Compressed File is 1.1 % of actual File Size\n"
     ]
    }
   ],
   "source": [
    "exampleZip = zipfile.ZipFile('newzip.zip')\n",
    "\n",
    "# Get List of Files in Zip\n",
    "print(exampleZip.namelist())\n",
    "# Get Info of zipped Files\n",
    "Info = exampleZip.getinfo('mydata.db')\n",
    "print('File Size: ' + str(Info.file_size))\n",
    "print('Compressed Size: ' + str(Info.compress_size))\n",
    "print(f'Compressed File is {round(Info.compress_size/Info.file_size * 100,2)} % of actual File Size')\n",
    "exampleZip.close()"
   ]
  },
  {
   "cell_type": "markdown",
   "metadata": {},
   "source": [
    "Extract Files of zip File"
   ]
  },
  {
   "cell_type": "code",
   "execution_count": 135,
   "metadata": {},
   "outputs": [
    {
     "data": {
      "text/plain": [
       "'/Users/andreasfussstetter/Jupyter Notebooks/Files_in_Python/mydata.db'"
      ]
     },
     "execution_count": 135,
     "metadata": {},
     "output_type": "execute_result"
    }
   ],
   "source": [
    "exampleZip = zipfile.ZipFile('newzip.zip')\n",
    "\n",
    "# Extract whole content\n",
    "exampleZip.extractall()\n",
    "\n",
    "# Extract specified File\n",
    "exampleZip.extract('mydata.db')\n",
    "exampleZip.close"
   ]
  }
 ],
 "metadata": {
  "kernelspec": {
   "display_name": "Python 3",
   "language": "python",
   "name": "python3"
  },
  "language_info": {
   "codemirror_mode": {
    "name": "ipython",
    "version": 3
   },
   "file_extension": ".py",
   "mimetype": "text/x-python",
   "name": "python",
   "nbconvert_exporter": "python",
   "pygments_lexer": "ipython3",
   "version": "3.7.7"
  }
 },
 "nbformat": 4,
 "nbformat_minor": 4
}
